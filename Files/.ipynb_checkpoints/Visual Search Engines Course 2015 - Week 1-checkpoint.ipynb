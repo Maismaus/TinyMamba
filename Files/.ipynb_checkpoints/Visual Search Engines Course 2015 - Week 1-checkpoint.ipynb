{
 "cells": [
  {
   "cell_type": "markdown",
   "metadata": {},
   "source": [
    "<h1>VSE14: Lab week 1</h1>\n",
    "<h3> Introduction to Python and Basic Image Manipulation</h3>\n",
    "<br>\n",
    "<br>\n",
    "<h2>Part 1: Introduction to Python</h2>\n",
    "<p>\n",
    "    During this course, we will use the Python programming language  to perform image manipulation, feature extraction, and retrieval tasks.\n",
    "    <br>\n",
    "    As a number of people have not worked with Python before, we start the course with an introduction to the language.\n",
    "    <br>\n",
    "    <br>\n",
    "    The Python programming language is a very popular high-level programming language with an emphasis on code readability and writing with a minimal amount of lines. The Python programming language contains a number of features that make it easy to learn. Most notably:\n",
    "    <ul>\n",
    "        <li>It has a dynamic type system (so you don't have to explicitly give the type to a variable, like int or float or string. Python will figure it out by itself).</li>\n",
    "        <li>It has automatic memory management (so you don't have to worry THAT MUCH about freeing up data and worrying about pointers).</li>\n",
    "        <li>There is a rich set of libraries ready to import that will make your life easier (from simple math libraries to whole 2D game libraries).</li>\n",
    "    </ul>\n",
    "    We will in this week start with an introduction to Python and a few very useful libraries for this course. Please take care to fully understand what is happening in this introduction and feel very free to mess around with the language in order to understand how it is working. We expect that the people unfamiliar with Python will quickly come to like (love?) the language.\n",
    "    <br>\n",
    "    <br>\n",
    "    There are a number of ways to create and run python programs. One way is to create a .py file (or more files) and run the file(s) from the command line. It is also possible to open a \"Python interpreter\" by simply typing \"python\" in the command line. In the interpreter, you can type individual commands, which is very useful when you want to test short code lines. For the rest of this course however, you will be using the iPython Notebook. The iPython Notebook is a bit similar to the python interpreter, but with a number of advantages. Namely, it also serves as a browser-based notebook (so we can explain the assignments AND you can write down your own notes) and you can easily print and plot results. Each week, you will be presented with a new Notebook containing some explanation as well as a number of assignments. A number of the assignments are fodder for discussion in the final report, while a few assignments are for automatic evaluation. The automatic evaluation is useful to test the code you make! For more information about the assignments and what we expect from you during this course, see the handout given at the first lab assignment.\n",
    "    <br>\n",
    "    The notebooks can be used to write and test your code for yourself and for the assignments.\n",
    "    <br>\n",
    "    <h3>Using Python in the iPython Notebook</h3>\n",
    "    Just how easy is it to run basic Python code in iPython? Simply look at the grey lines of code below this text. It shows just how easy it is to set up variables, use them, and print them.\n",
    "    <br>\n",
    "    Simply press Shift+Enter to evaluate the code snippit below. You should get 4 lines of results, corresponding to the 4 print statements. Feel free to add other lines of code to test simple additions, subtractions, multiplications, and print statements."
   ]
  },
  {
   "cell_type": "code",
   "execution_count": null,
   "metadata": {
    "collapsed": false
   },
   "outputs": [],
   "source": [
    "a  = 2\n",
    "print a\n",
    "a += 4\n",
    "print a\n",
    "b  = \"Hello World\"\n",
    "print b\n",
    "print b + \" \" + str(42)"
   ]
  },
  {
   "cell_type": "markdown",
   "metadata": {},
   "source": [
    "The above piece of code shows just how easy it is to define and use variables, as well as printing them. When performing operations beyond additions and subtractions, you might want to have data-structures such as lists and use things such as for-loops. The code snippit below shows how to define a list in Python, how to add elements in a for-loop and how to print the elements."
   ]
  },
  {
   "cell_type": "code",
   "execution_count": null,
   "metadata": {
    "collapsed": false
   },
   "outputs": [],
   "source": [
    "# This is a comment line.\n",
    "numbers = []\n",
    "for i in xrange(0, 5):\n",
    "    numbers.append(i + 10)\n",
    "    print len(numbers)\n",
    "    \n",
    "print numbers\n",
    "print numbers[0], numbers[3]"
   ]
  },
  {
   "cell_type": "markdown",
   "metadata": {},
   "source": [
    "Please note 3 things about the for-loop. First, Python <strong>requires</strong> that you perform indentation. In other words, every time you perform a for-loop, while-loop, if-statement, etc. you need to indent the lines in the loop. Second, note how there are no brackets and end-statements. You can see if you are in the for-loop by looking at the indentation. Third, note that the xrange starts at the first number, but does not include the second number.\n",
    "<br>\n",
    "<br>\n",
    "For reproducing your code, you naturally want to start writing functions. This is again easy to do in Python. The code below provides a simple function that can be called later. Note that you need to initialize the function by pressing Shift+Enter for the code snippet, else you will get an error.\n",
    "<br>\n",
    "<strong>Note that any variable, function, class etc. initialized can be used in later code parts in the same iPython Notebook.</strong>"
   ]
  },
  {
   "cell_type": "code",
   "execution_count": null,
   "metadata": {
    "collapsed": false
   },
   "outputs": [],
   "source": [
    "# Create a function that multiplies a number by 5 if it is above a given threshold, otherwise square the input.\n",
    "def manipulate_number(number, threshold):\n",
    "    # Check whether the number is higher than the threshold.\n",
    "    if number > threshold:\n",
    "        return number * 5\n",
    "    else:\n",
    "        return number ** 2"
   ]
  },
  {
   "cell_type": "code",
   "execution_count": null,
   "metadata": {
    "collapsed": false
   },
   "outputs": [],
   "source": [
    "print manipulate_number(4, 6)\n",
    "print manipulate_number(8, 7)\n",
    "print manipulate_number(3, 3)"
   ]
  },
  {
   "cell_type": "markdown",
   "metadata": {},
   "source": [
    "<h3>Messing around with Python</h3>\n",
    "If you are still very new to Python, we encourage you to implement some simple functions and print silly statements to understand to language. Also, please ask questions if pieces of code do not do what you want them to do!\n",
    "<br>\n",
    "If you are not sure what a particular command does, you can try using the <code>help()</code> function. Try it below:"
   ]
  },
  {
   "cell_type": "code",
   "execution_count": null,
   "metadata": {
    "collapsed": false
   },
   "outputs": [],
   "source": [
    "help(manipulate_number)"
   ]
  },
  {
   "cell_type": "markdown",
   "metadata": {},
   "source": [
    "<h4>Playgrounds</h4>\n",
    "<p>\n",
    "Throughout the assignments we will ask you to implement several functions. It can often be helpful to work on implementing smaller parts of a function before trying to put it all together. To help facilitate this, we have included empty code blocks with the comment <code>#PLAYGROUND</code> beneath the functions. Consider these as the coding equivalent of scratch paper, where you can try your ideas out and work through problems. An example of such a code block is below.\n",
    "<p>\n",
    "Furthermore, at any point you can add your own code block to the Notebook by clicking the \"Insert Cell Below\" button on the toolbar."
   ]
  },
  {
   "cell_type": "code",
   "execution_count": null,
   "metadata": {
    "collapsed": false
   },
   "outputs": [],
   "source": [
    "#PLAYGROUND"
   ]
  },
  {
   "cell_type": "markdown",
   "metadata": {},
   "source": [
    "<h2>Part 2: Introduction to NumPy and SciPy</h2>\n",
    "<p>\n",
    "    A very nice part of Python is that there are a lot of libraries that can easily be imported. As you have hopefully installed Python Anadonda with success, there are a number of libraries that can be directly imported! Two of the most important libraries during this course are Numpy and Scipy. These libraries enable things such as making array and matrices (don't worry, it will be clear what you need to do with them later on), read and manipulate images etc.\n",
    "    <br>\n",
    "    The Numpy and Scipy package will become essential during the course, but it might take some time to fully understand how these libraries work. Here, we will show some of the fundamental things, namely creating arrays and matrices and manipulating them.\n",
    "    <br>\n",
    "    <br>\n",
    "    The code below shows how to import the libraries. Again, you need to press Shift+Enter on the code snippet to activate the code.\n",
    "</p>"
   ]
  },
  {
   "cell_type": "code",
   "execution_count": null,
   "metadata": {
    "collapsed": false
   },
   "outputs": [],
   "source": [
    "import numpy as np\n",
    "import scipy"
   ]
  },
  {
   "cell_type": "markdown",
   "metadata": {},
   "source": [
    "Easy enough! Within Python, the import statement makes sure that you import the library. When you run functions or variables of the imported library or file, you will use that name first. Therefore, there is also the \"as\" statement, which is very useful when the library name is long. Here, we use the standard convention of renaming numpy to np, such that everything becomes shorter.\n",
    "<br><br>\n",
    "Let's see how easy it is to make an array or matrix."
   ]
  },
  {
   "cell_type": "code",
   "execution_count": null,
   "metadata": {
    "collapsed": false
   },
   "outputs": [],
   "source": [
    "newarray  = np.zeros(5)\n",
    "print newarray\n",
    "newmatrix = np.ones((6,3))\n",
    "print newmatrix\n",
    "print\n",
    "print newarray.shape, newmatrix.shape"
   ]
  },
  {
   "cell_type": "markdown",
   "metadata": {},
   "source": [
    "Arrays and matrices are essential tools when working with visual data. An array is a bit similar to a list, but with a great number of benefits that will become clear below.\n",
    "<br>\n",
    "A matrix is actually similar to an array, but in multiple dimensions. For example, a grayscale image can be seen as a matrix, where each index states a pixel value.\n",
    "<br>\n",
    "<br>\n",
    "The main benefits of numpy arrays and matrices are that they are very fast to evaluate and there are a great number of manipulations possible. Let's check out a few.\n",
    "<br>\n",
    "<i>If you do not understand the following code, do not hesitate to call for help, this is an important part of the lab and it will be used throughout the rest of the course</i>"
   ]
  },
  {
   "cell_type": "code",
   "execution_count": null,
   "metadata": {
    "collapsed": false
   },
   "outputs": [],
   "source": [
    "newarray  = np.zeros(8)\n",
    "print newarray\n",
    "newarray += 8\n",
    "print newarray\n",
    "newarray  = newarray + np.array([5,5,5,5,2,2,2,2])\n",
    "print newarray\n",
    "\n",
    "\n",
    "newarray[0] = 1\n",
    "print newarray\n",
    "total = np.sum(newarray)\n",
    "print total"
   ]
  },
  {
   "cell_type": "markdown",
   "metadata": {},
   "source": [
    "Note how you can manipulate arrays with numbers, add arrays, and compute functions with arrays.\n",
    "<br>\n",
    "<br>\n",
    "<h4>Longer Numpy tutorials</h4>\n",
    "There is so much you can do with Numpy and Scipy. We refer to the tutorial on the Numpy site if you want to know more about using the library: http://wiki.scipy.org/Tentative_NumPy_Tutorial."
   ]
  },
  {
   "cell_type": "markdown",
   "metadata": {},
   "source": [
    "<h2>Part 3: Reading an image and changing pixel values</h2>\n",
    "<p>\n",
    "    Now that we've quickly gone through a basic Python and Numpy tutorial, we can do some interesting stuff for the first assignment. The goal here is to load an image and to perform some basic operations. We will first show you how to load a gray-scale image into a matrix of pixel values. It is then your goal to fill in 2 functions to manipulate these images.\n",
    "</p>"
   ]
  },
  {
   "cell_type": "code",
   "execution_count": null,
   "metadata": {
    "collapsed": false
   },
   "outputs": [],
   "source": [
    "# An additional import to plot images!\n",
    "import matplotlib.pyplot as plt\n",
    "import scipy.misc\n",
    "\n",
    "#This makes plots show up within the notebook, rather than a separate window.\n",
    "%matplotlib inline\n",
    "\n",
    "# Load the image data.\n",
    "image = scipy.misc.imread(\"images/billiardballs.jpg\", flatten=True)\n",
    "# Print the size of the image in terms of pixels.\n",
    "print image.shape\n",
    "\n",
    "# Plot the image itself.\n",
    "plt.imshow(image, cmap=plt.cm.gist_gray)\n",
    "plt.show()"
   ]
  },
  {
   "cell_type": "markdown",
   "metadata": {},
   "source": [
    "The above piece of code loads an image and plots the result. What you should see is an image of four billiard balls. Given the loaded image, we are going to perform some standard image manipulations. The code blocks below show the skeletons of 2 functions that give the image as input and return a new transformed images.\n",
    "<br>\n",
    "<br>\n",
    "The first function \"threshold_image\" takes as input a gray scale image and 2 thresholds and outputs a binary image. Your goal is to implement the function such that each pixel in the image is black (a value of 0) if the pixel value is below the lower threshold or above the upper threshold and white (a value of 1) otherwise.\n",
    "<br>\n",
    "<strong>To clarify:</strong> A pixel value $p$ is equal to 0 if $p <$ minthreshold or $p >$ maxthreshold!\n",
    "<br>\n",
    "For example, using the lena.bmp image, you might see something like the following:\n",
    "<img src=\"files/images/lena_threshold.png\">"
   ]
  },
  {
   "cell_type": "code",
   "execution_count": null,
   "metadata": {
    "collapsed": false
   },
   "outputs": [],
   "source": [
    "#\n",
    "# Function to implement!\n",
    "# As input are given the image and a threshold (a single value).\n",
    "# Fill in the function using the above defined criterion.\n",
    "#\n",
    "def threshold_image(image, minthreshold, maxthreshold):\n",
    "    # First, make a copy of the image.\n",
    "    newimage = image.copy()\n",
    "    # Figure out the shape of the image.\n",
    "    # shape[0] = height, shape[1] = width.\n",
    "    shape    = np.shape(newimage)\n",
    "    \n",
    "    # Second, transform the new image.\n",
    "    # TODO BY YOU!\n",
    "    \n",
    "    # Third, return the new image.\n",
    "    return newimage\n",
    "\n",
    "# Test your function for yourself.\n",
    "im1 = threshold_image(image, 100, 175)\n",
    "plt.subplot(122)\n",
    "plt.title('Thresholded')\n",
    "plt.imshow(im1, cmap=plt.cm.gist_gray)\n",
    "plt.subplot(121)\n",
    "plt.title('Original')\n",
    "plt.imshow(image,cmap=plt.cm.gray)\n",
    "plt.show()"
   ]
  },
  {
   "cell_type": "code",
   "execution_count": null,
   "metadata": {
    "collapsed": false
   },
   "outputs": [],
   "source": [
    "#PLAYGROUND"
   ]
  },
  {
   "cell_type": "markdown",
   "metadata": {},
   "source": [
    "The second function \"blacken_image_window\" again takes as input an image and the top left and bottom right pixels of a window. The output is the same image, but with the pixels in that window set to zero. In other words, a specified window in the image is removed and set to black.\n",
    "<br><br>\n",
    "<i>Hint: Make sure to include the right and bottom pixel border in the window!</i>"
   ]
  },
  {
   "cell_type": "code",
   "execution_count": null,
   "metadata": {
    "collapsed": false
   },
   "outputs": [],
   "source": [
    "#\n",
    "# Function to implement!\n",
    "# An image and the co-ordinates for the top left and bottom right corners are given\n",
    "# The function should return a version of the image with that section blacked out (set to 0).\n",
    "# Note: The blackened window should include the bottom right point.\n",
    "# Always worth remembering: python indexes from 0.\n",
    "def blacken_image_window(image, topleftx, toplefty, bottomrightx, bottomrighty):\n",
    "    # First, make a copy of the image.\n",
    "    newimage = image.copy()\n",
    "    \n",
    "    # Second, transform the new image.\n",
    "    # TODO BY YOU!\n",
    "    \n",
    "    # Third, return the new image.\n",
    "    return newimage\n",
    "\n",
    "# Test your function for yourself.\n",
    "im1 = blacken_image_window(image, 50, 50, 250, 150)\n",
    "plt.imshow(im1, cmap=plt.cm.gist_gray)\n",
    "plt.show()"
   ]
  },
  {
   "cell_type": "code",
   "execution_count": null,
   "metadata": {
    "collapsed": false
   },
   "outputs": [],
   "source": [
    "#PLAYGROUND"
   ]
  },
  {
   "cell_type": "markdown",
   "metadata": {},
   "source": [
    "<h4>Evaluation and Unit Testing</h4>\n",
    "\n",
    "To track your progress through the course, there is automatic evaluation of the functions you have written. Successful completion of these automatic evaluations comprises a portion of your overall grade. The purpose of this evaluation is to track your completion of the assignments, and it will only tell you whether or not your function passes our checks and **not** *why* it fails to pass.\n",
    "\n",
    "**<font color='green'>You should implement sanity checks, unit testing, and all around common sense yourselves.</font>**\n",
    "\n",
    "To use the testing system, you must fill in a team name for you and your partner, as well as your names and email addresses below. Be sure to remember your team name, as you will need to use it as your user ID for submission of all automatic evaulation throughout the course."
   ]
  },
  {
   "cell_type": "code",
   "execution_count": null,
   "metadata": {
    "collapsed": false
   },
   "outputs": [],
   "source": [
    "import client_req as ct\n",
    "teamname = 'replace_with_team_name'     #no spaces would be nice\n",
    "member1  = ('REPLACE WITH NAME','REPLACE WITH EMAIL') #Please put the name and email of one member here\n",
    "member2  = ('REPLACE WITH NAME','REPLACE WITH EMAIL') #And the name and email of the other here\n",
    "ct.register_id(teamname,member1,member2)"
   ]
  },
  {
   "cell_type": "markdown",
   "metadata": {},
   "source": [
    "Below you can submit your function for automatic evaluation. Your attempt, if successful, will be logged. Don't forget to change the line in the code below to your own designated user number! Note: This  function communicates with our server at <code>vse.pythonanywhere.com</code>, and your firewall may give a warning. You may check your progress at <code>vse.pythonanywhere.com/submissions/&lt;userid&gt;</code>."
   ]
  },
  {
   "cell_type": "code",
   "execution_count": null,
   "metadata": {
    "collapsed": false
   },
   "outputs": [],
   "source": [
    "import client_req as ct\n",
    "#BE SURE TO REPLACE THIS BELOW WITH YOUR OWN ID#\n",
    "user_id = 'replace_with_team_name'\n",
    "ct.test_student_function(user_id,\n",
    "                         'week_one',\n",
    "                         blacken_image_window,\n",
    "                         ['image','topleftx','toplefty','bottomrightx','bottomrighty'])"
   ]
  },
  {
   "cell_type": "markdown",
   "metadata": {},
   "source": [
    "<font color=\"red\"> <strong>What do we want to see in the report?</strong>\n",
    "<br>\n",
    "We would like you to discuss the following elements in the report:\n",
    "<br>\n",
    "<ul>\n",
    "    <li>Apply the function 'threshold_image' on the billiard image for multiple thresholds and show the results.</li>\n",
    "    <li>Try to find the thresholds that best separates the \"5\" ball (the bottom right ball) from the rest of the image. In otherwords, try to find the thresholds that make the \"5\" ball area white and the rest of the image black.</li>\n",
    "    <li>Can you perfectly segment the \"5\" ball from the rest of the image? If not, can you explain why this is the case?</li>\n",
    "    <li>Can you suggest a few approaches more complicated than thresholding to improve the segmentation of objects in images?</li>\n",
    "    <br>\n",
    "    <li>Apply the function 'blacken_window' on the billiard image for multiple windows.</li>\n",
    "    <li>Can you think of a number of applications in Computer Vision for applying thresholds and blacking to images? Feel free to think of weird ideas!</li>\n",
    "</ul>\n",
    "</font>"
   ]
  },
  {
   "cell_type": "code",
   "execution_count": null,
   "metadata": {
    "collapsed": true
   },
   "outputs": [],
   "source": []
  }
 ],
 "metadata": {
  "kernelspec": {
   "display_name": "Python 2",
   "language": "python",
   "name": "python2"
  },
  "language_info": {
   "codemirror_mode": {
    "name": "ipython",
    "version": 2
   },
   "file_extension": ".py",
   "mimetype": "text/x-python",
   "name": "python",
   "nbconvert_exporter": "python",
   "pygments_lexer": "ipython2",
   "version": "2.7.10"
  }
 },
 "nbformat": 4,
 "nbformat_minor": 0
}
